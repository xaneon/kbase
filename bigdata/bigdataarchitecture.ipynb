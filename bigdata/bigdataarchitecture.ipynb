{
 "cells": [
  {
   "cell_type": "markdown",
   "metadata": {},
   "source": [
    "# Big Data Architecture"
   ]
  },
  {
   "cell_type": "code",
   "execution_count": 256,
   "metadata": {},
   "outputs": [],
   "source": [
    "from graphviz import Digraph, nohtml\n",
    "import os"
   ]
  },
  {
   "cell_type": "code",
   "execution_count": 257,
   "metadata": {},
   "outputs": [],
   "source": [
    "outfname = os.path.join(\"..\", \"dot\", \"bigdataarchitecture\")\n",
    "dot = Digraph(comment='Big Data', engine=\"neato\", filename=outfname, format=\"pdf\")"
   ]
  },
  {
   "cell_type": "code",
   "execution_count": 258,
   "metadata": {},
   "outputs": [],
   "source": [
    "dot.node(name=\"A\", label='<<i> Distributed Storage:</i>>', pos=\"0,0!\", shape=\"none\", fontcolor=\"lightgrey\")\n",
    "dot.node(name=\"Aframe\", label='', pos=\"3,0!\", shape=\"rectangle\", style=\"dotted\", \n",
    "         width=\"8.5\", height=\"0.95\", fontcolor=\"lightgrey\", color=\"lightgrey\")\n",
    "dot.node(name=\"hdfs\", label='<<b> HDFS </b>>', pos=\"4,0!\", shape=\"rectangle\", style=\"solid, rounded\", \n",
    "         URL=\"https://hadoop.apache.org/\",\n",
    "         width=\"5.5\", height=\"0.75\", fontcolor=\"black\", color=\"black\")\n",
    "\n",
    "\n",
    "\n",
    "dot.node(name=\"B\", label='<<i> Ressource Management:</i>>', pos=\"0,1!\", shape=\"none\", fontcolor=\"lightgrey\")\n",
    "dot.node(name=\"Bframe\", label='', pos=\"3,1!\", shape=\"rectangle\", style=\"dotted\", \n",
    "         width=\"8.5\", height=\"0.95\", fontcolor=\"black\", color=\"lightgrey\")\n",
    "dot.node(name=\"yarn\", label='<<b> YARN </b>>', pos=\"4,1!\", shape=\"rectangle\", style=\"solid, rounded\",\n",
    "         URL=\"https://hadoop.apache.org/docs/current/hadoop-yarn/hadoop-yarn-site/YARN.htm\",\n",
    "         width=\"5.5\", height=\"0.75\", fontcolor=\"black\", color=\"black\")\n",
    "\n",
    "\n",
    "dot.node(name=\"C\", label='<<i> Processing Framework:</i>>', pos=\"0,2!\", shape=\"none\", fontcolor=\"lightgrey\")\n",
    "dot.node(name=\"Cframe\", label='', pos=\"3,2!\", shape=\"rectangle\", style=\"dotted\", \n",
    "         width=\"8.5\", height=\"0.95\", fontcolor=\"lightgrey\", color=\"lightgrey\")\n",
    "dot.node(name=\"mapreducev2\", label='<<b> MapReduce v2 </b>>', pos=\"2.05,2!\", shape=\"rectangle\", style=\"solid, rounded\",\n",
    "         URL=\"https://hadoop.apache.org/docs/r3.0.0/api/org/apache/hadoop/mapreduce/v2/package-summary.html\",\n",
    "         width=\"1.5\", height=\"0.55\", fontcolor=\"black\", color=\"black\")\n",
    "dot.node(name=\"tez\", label='<<b> TEZ </b>>', pos=\"3.3,2!\", shape=\"rectangle\", style=\"solid, rounded\",\n",
    "         URL=\"https://tez.apache.org/\",\n",
    "         width=\"0.5\", height=\"0.55\", fontcolor=\"black\", color=\"black\")\n",
    "dot.node(name=\"hoya\", label='<<b> HOYA </b>>', pos=\"4.2,2!\", shape=\"rectangle\", style=\"solid, rounded\",\n",
    "         URL=\"https://de.hortonworks.com/blog/introducing-hoya-hbase-on-yarn/\",\n",
    "         width=\"0.5\", height=\"0.55\", fontcolor=\"lightgrey\", color=\"lightgrey\")\n",
    "\n",
    "dot.node(name=\"D\", label='<<i> API:</i>>', pos=\"0,3!\", shape=\"none\", fontcolor=\"lightgrey\")\n",
    "dot.node(name=\"Dframe\", label='', pos=\"3,3!\", shape=\"rectangle\", style=\"dotted\", \n",
    "         width=\"8.5\", height=\"0.95\", fontcolor=\"lightgrey\", color=\"lightgrey\")\n",
    "dot.node(name=\"mapreduce\", label='<<b> MapReduce </b>>', pos=\"2.00,3!\", shape=\"rectangle\", style=\"solid, rounded\",\n",
    "         URL=\"https://hadoop.apache.org/docs/r2.8.0/hadoop-mapreduce-client/hadoop-mapreduce-client-core/MapReduceTutorial.html\",\n",
    "         width=\"1.5\", height=\"0.55\", fontcolor=\"black\", color=\"black\")\n",
    "dot.node(name=\"pig\", label='<<b> Pig </b>>', pos=\"3.15,3!\", shape=\"rectangle\", style=\"solid, rounded\",\n",
    "         URL=\"https://pig.apache.org/\",\n",
    "         width=\"0.5\", height=\"0.55\", fontcolor=\"black\", color=\"black\")\n",
    "dot.node(name=\"hive\", label='<<b> Hive </b>>', pos=\"3.9,3!\", shape=\"rectangle\", style=\"solid, rounded\",\n",
    "         URL=\"https://hive.apache.org/\",\n",
    "         width=\"0.5\", height=\"0.55\", fontcolor=\"black\", color=\"black\")\n",
    "dot.node(name=\"hbase\", label='<<b> HBase </b>>', pos=\"4.8,3!\", shape=\"rectangle\", style=\"solid, rounded\",\n",
    "         URL=\"https://hbase.apache.org/\",\n",
    "         width=\"0.5\", height=\"0.55\", fontcolor=\"black\", color=\"black\")\n",
    "\n",
    "dot.node(name=\"other\", label='<<b> Other </b> <br/>(e.g. Giraph, MPI, <br/> Storm)>', pos=\"6.2,2.5!\", shape=\"rectangle\", style=\"solid, rounded\",\n",
    "         URL=\"https://giraph.apache.org/\",\n",
    "         width=\"0.5\", height=\"1.55\", fontcolor=\"black\", color=\"black\")\n",
    "\n"
   ]
  },
  {
   "cell_type": "code",
   "execution_count": 259,
   "metadata": {},
   "outputs": [
    {
     "data": {
      "image/svg+xml": [
       "<?xml version=\"1.0\" encoding=\"UTF-8\" standalone=\"no\"?>\r\n",
       "<!DOCTYPE svg PUBLIC \"-//W3C//DTD SVG 1.1//EN\"\r\n",
       " \"http://www.w3.org/Graphics/SVG/1.1/DTD/svg11.dtd\">\r\n",
       "<!-- Generated by graphviz version 2.38.0 (20140413.2041)\r\n",
       " -->\r\n",
       "<!-- Title: %3 Pages: 1 -->\r\n",
       "<svg width=\"620pt\" height=\"292pt\"\r\n",
       " viewBox=\"0.00 0.00 620.00 292.00\" xmlns=\"http://www.w3.org/2000/svg\" xmlns:xlink=\"http://www.w3.org/1999/xlink\">\r\n",
       "<g id=\"graph0\" class=\"graph\" transform=\"scale(1 1) rotate(0) translate(292.4 120)\">\r\n",
       "<title>%3</title>\r\n",
       "<polygon fill=\"white\" stroke=\"none\" points=\"-292.4,172 -292.4,-120 327.6,-120 327.6,172 -292.4,172\"/>\r\n",
       "<!-- A -->\r\n",
       "<g id=\"node1\" class=\"node\"><title>A</title>\r\n",
       "<text text-anchor=\"start\" x=\"-258.9\" y=\"136.7\" font-family=\"Times New Roman,serif\" font-style=\"italic\" font-size=\"14.00\" fill=\"lightgrey\"> Distributed Storage:</text>\r\n",
       "</g>\r\n",
       "<!-- Aframe -->\r\n",
       "<g id=\"node2\" class=\"node\"><title>Aframe</title>\r\n",
       "<polygon fill=\"none\" stroke=\"lightgrey\" stroke-dasharray=\"1,5\" points=\"323.6,100 -288.4,100 -288.4,168 323.6,168 323.6,100\"/>\r\n",
       "</g>\r\n",
       "<!-- hdfs -->\r\n",
       "<g id=\"node3\" class=\"node\"><title>hdfs</title>\r\n",
       "<g id=\"a_node3\"><a xlink:href=\"https://hadoop.apache.org/\" xlink:title=\"&lt;b&gt; HDFS &lt;/b&gt;\">\r\n",
       "<path fill=\"none\" stroke=\"black\" d=\"M275.6,107C275.6,107 -96.4,107 -96.4,107 -102.4,107 -108.4,113 -108.4,119 -108.4,119 -108.4,149 -108.4,149 -108.4,155 -102.4,161 -96.4,161 -96.4,161 275.6,161 275.6,161 281.6,161 287.6,155 287.6,149 287.6,149 287.6,119 287.6,119 287.6,113 281.6,107 275.6,107\"/>\r\n",
       "<text text-anchor=\"start\" x=\"66.6\" y=\"136.7\" font-family=\"Times New Roman,serif\" font-weight=\"bold\" font-size=\"14.00\"> HDFS </text>\r\n",
       "</a>\r\n",
       "</g>\r\n",
       "</g>\r\n",
       "<!-- B -->\r\n",
       "<g id=\"node4\" class=\"node\"><title>B</title>\r\n",
       "<text text-anchor=\"start\" x=\"-270.9\" y=\"64.7\" font-family=\"Times New Roman,serif\" font-style=\"italic\" font-size=\"14.00\" fill=\"lightgrey\"> Ressource Management:</text>\r\n",
       "</g>\r\n",
       "<!-- Bframe -->\r\n",
       "<g id=\"node5\" class=\"node\"><title>Bframe</title>\r\n",
       "<polygon fill=\"none\" stroke=\"lightgrey\" stroke-dasharray=\"1,5\" points=\"323.6,28 -288.4,28 -288.4,96 323.6,96 323.6,28\"/>\r\n",
       "</g>\r\n",
       "<!-- yarn -->\r\n",
       "<g id=\"node6\" class=\"node\"><title>yarn</title>\r\n",
       "<g id=\"a_node6\"><a xlink:href=\"https://hadoop.apache.org/docs/current/hadoop-yarn/hadoop-yarn-site/YARN.htm\" xlink:title=\"&lt;b&gt; YARN &lt;/b&gt;\">\r\n",
       "<path fill=\"none\" stroke=\"black\" d=\"M275.6,35C275.6,35 -96.4,35 -96.4,35 -102.4,35 -108.4,41 -108.4,47 -108.4,47 -108.4,77 -108.4,77 -108.4,83 -102.4,89 -96.4,89 -96.4,89 275.6,89 275.6,89 281.6,89 287.6,83 287.6,77 287.6,77 287.6,47 287.6,47 287.6,41 281.6,35 275.6,35\"/>\r\n",
       "<text text-anchor=\"start\" x=\"65.1\" y=\"64.7\" font-family=\"Times New Roman,serif\" font-weight=\"bold\" font-size=\"14.00\"> YARN </text>\r\n",
       "</a>\r\n",
       "</g>\r\n",
       "</g>\r\n",
       "<!-- C -->\r\n",
       "<g id=\"node7\" class=\"node\"><title>C</title>\r\n",
       "<text text-anchor=\"start\" x=\"-268.9\" y=\"-7.3\" font-family=\"Times New Roman,serif\" font-style=\"italic\" font-size=\"14.00\" fill=\"lightgrey\"> Processing Framework:</text>\r\n",
       "</g>\r\n",
       "<!-- Cframe -->\r\n",
       "<g id=\"node8\" class=\"node\"><title>Cframe</title>\r\n",
       "<polygon fill=\"none\" stroke=\"lightgrey\" stroke-dasharray=\"1,5\" points=\"323.6,-44 -288.4,-44 -288.4,24 323.6,24 323.6,-44\"/>\r\n",
       "</g>\r\n",
       "<!-- mapreducev2 -->\r\n",
       "<g id=\"node9\" class=\"node\"><title>mapreducev2</title>\r\n",
       "<g id=\"a_node9\"><a xlink:href=\"https://hadoop.apache.org/docs/r3.0.0/api/org/apache/hadoop/mapreduce/v2/package-summary.html\" xlink:title=\"&lt;b&gt; MapReduce v2 &lt;/b&gt;\">\r\n",
       "<path fill=\"none\" stroke=\"black\" d=\"M-4.8,-30C-4.8,-30 -96.8,-30 -96.8,-30 -102.8,-30 -108.8,-24 -108.8,-18 -108.8,-18 -108.8,-2 -108.8,-2 -108.8,4 -102.8,10 -96.8,10 -96.8,10 -4.8,10 -4.8,10 1.2,10 7.2,4 7.2,-2 7.2,-2 7.2,-18 7.2,-18 7.2,-24 1.2,-30 -4.8,-30\"/>\r\n",
       "<text text-anchor=\"start\" x=\"-100.8\" y=\"-7.3\" font-family=\"Times New Roman,serif\" font-weight=\"bold\" font-size=\"14.00\"> MapReduce v2 </text>\r\n",
       "</a>\r\n",
       "</g>\r\n",
       "</g>\r\n",
       "<!-- tez -->\r\n",
       "<g id=\"node10\" class=\"node\"><title>tez</title>\r\n",
       "<g id=\"a_node10\"><a xlink:href=\"https://tez.apache.org/\" xlink:title=\"&lt;b&gt; TEZ &lt;/b&gt;\">\r\n",
       "<path fill=\"none\" stroke=\"black\" d=\"M53.7,-30C53.7,-30 24.7,-30 24.7,-30 18.7,-30 12.7,-24 12.7,-18 12.7,-18 12.7,-2 12.7,-2 12.7,4 18.7,10 24.7,10 24.7,10 53.7,10 53.7,10 59.7,10 65.7,4 65.7,-2 65.7,-2 65.7,-18 65.7,-18 65.7,-24 59.7,-30 53.7,-30\"/>\r\n",
       "<text text-anchor=\"start\" x=\"20.7\" y=\"-7.3\" font-family=\"Times New Roman,serif\" font-weight=\"bold\" font-size=\"14.00\"> TEZ </text>\r\n",
       "</a>\r\n",
       "</g>\r\n",
       "</g>\r\n",
       "<!-- hoya -->\r\n",
       "<g id=\"node11\" class=\"node\"><title>hoya</title>\r\n",
       "<g id=\"a_node11\"><a xlink:href=\"https://de.hortonworks.com/blog/introducing-hoya-hbase-on-yarn/\" xlink:title=\"&lt;b&gt; HOYA &lt;/b&gt;\">\r\n",
       "<path fill=\"none\" stroke=\"lightgrey\" d=\"M124.5,-30C124.5,-30 83.5,-30 83.5,-30 77.5,-30 71.5,-24 71.5,-18 71.5,-18 71.5,-2 71.5,-2 71.5,4 77.5,10 83.5,10 83.5,10 124.5,10 124.5,10 130.5,10 136.5,4 136.5,-2 136.5,-2 136.5,-18 136.5,-18 136.5,-24 130.5,-30 124.5,-30\"/>\r\n",
       "<text text-anchor=\"start\" x=\"79.5\" y=\"-7.3\" font-family=\"Times New Roman,serif\" font-weight=\"bold\" font-size=\"14.00\" fill=\"lightgrey\"> HOYA </text>\r\n",
       "</a>\r\n",
       "</g>\r\n",
       "</g>\r\n",
       "<!-- D -->\r\n",
       "<g id=\"node12\" class=\"node\"><title>D</title>\r\n",
       "<text text-anchor=\"start\" x=\"-213.9\" y=\"-79.3\" font-family=\"Times New Roman,serif\" font-style=\"italic\" font-size=\"14.00\" fill=\"lightgrey\"> API:</text>\r\n",
       "</g>\r\n",
       "<!-- Dframe -->\r\n",
       "<g id=\"node13\" class=\"node\"><title>Dframe</title>\r\n",
       "<polygon fill=\"none\" stroke=\"lightgrey\" stroke-dasharray=\"1,5\" points=\"323.6,-116 -288.4,-116 -288.4,-48 323.6,-48 323.6,-116\"/>\r\n",
       "</g>\r\n",
       "<!-- mapreduce -->\r\n",
       "<g id=\"node14\" class=\"node\"><title>mapreduce</title>\r\n",
       "<g id=\"a_node14\"><a xlink:href=\"https://hadoop.apache.org/docs/r2.8.0/hadoop-mapreduce-client/hadoop-mapreduce-client-core/MapReduceTutorial.html\" xlink:title=\"&lt;b&gt; MapReduce &lt;/b&gt;\">\r\n",
       "<path fill=\"none\" stroke=\"black\" d=\"M-12.4,-102C-12.4,-102 -96.4,-102 -96.4,-102 -102.4,-102 -108.4,-96 -108.4,-90 -108.4,-90 -108.4,-74 -108.4,-74 -108.4,-68 -102.4,-62 -96.4,-62 -96.4,-62 -12.4,-62 -12.4,-62 -6.4,-62 -0.400001,-68 -0.400001,-74 -0.400001,-74 -0.400001,-90 -0.400001,-90 -0.400001,-96 -6.4,-102 -12.4,-102\"/>\r\n",
       "<text text-anchor=\"start\" x=\"-95.4\" y=\"-79.3\" font-family=\"Times New Roman,serif\" font-weight=\"bold\" font-size=\"14.00\"> MapReduce </text>\r\n",
       "</a>\r\n",
       "</g>\r\n",
       "</g>\r\n",
       "<!-- pig -->\r\n",
       "<g id=\"node15\" class=\"node\"><title>pig</title>\r\n",
       "<g id=\"a_node15\"><a xlink:href=\"https://pig.apache.org/\" xlink:title=\"&lt;b&gt; Pig &lt;/b&gt;\">\r\n",
       "<path fill=\"none\" stroke=\"black\" d=\"M38.4,-102C38.4,-102 18.4,-102 18.4,-102 12.4,-102 6.4,-96 6.4,-90 6.4,-90 6.4,-74 6.4,-74 6.4,-68 12.4,-62 18.4,-62 18.4,-62 38.4,-62 38.4,-62 44.4,-62 50.4,-68 50.4,-74 50.4,-74 50.4,-90 50.4,-90 50.4,-96 44.4,-102 38.4,-102\"/>\r\n",
       "<text text-anchor=\"start\" x=\"14.4\" y=\"-79.3\" font-family=\"Times New Roman,serif\" font-weight=\"bold\" font-size=\"14.00\"> Pig </text>\r\n",
       "</a>\r\n",
       "</g>\r\n",
       "</g>\r\n",
       "<!-- hive -->\r\n",
       "<g id=\"node16\" class=\"node\"><title>hive</title>\r\n",
       "<g id=\"a_node16\"><a xlink:href=\"https://hive.apache.org/\" xlink:title=\"&lt;b&gt; Hive &lt;/b&gt;\">\r\n",
       "<path fill=\"none\" stroke=\"black\" d=\"M96.4,-102C96.4,-102 68.4,-102 68.4,-102 62.4,-102 56.4,-96 56.4,-90 56.4,-90 56.4,-74 56.4,-74 56.4,-68 62.4,-62 68.4,-62 68.4,-62 96.4,-62 96.4,-62 102.4,-62 108.4,-68 108.4,-74 108.4,-74 108.4,-90 108.4,-90 108.4,-96 102.4,-102 96.4,-102\"/>\r\n",
       "<text text-anchor=\"start\" x=\"64.4\" y=\"-79.3\" font-family=\"Times New Roman,serif\" font-weight=\"bold\" font-size=\"14.00\"> Hive </text>\r\n",
       "</a>\r\n",
       "</g>\r\n",
       "</g>\r\n",
       "<!-- hbase -->\r\n",
       "<g id=\"node17\" class=\"node\"><title>hbase</title>\r\n",
       "<g id=\"a_node17\"><a xlink:href=\"https://hbase.apache.org/\" xlink:title=\"&lt;b&gt; HBase &lt;/b&gt;\">\r\n",
       "<path fill=\"none\" stroke=\"black\" d=\"M167.7,-102C167.7,-102 126.7,-102 126.7,-102 120.7,-102 114.7,-96 114.7,-90 114.7,-90 114.7,-74 114.7,-74 114.7,-68 120.7,-62 126.7,-62 126.7,-62 167.7,-62 167.7,-62 173.7,-62 179.7,-68 179.7,-74 179.7,-74 179.7,-90 179.7,-90 179.7,-96 173.7,-102 167.7,-102\"/>\r\n",
       "<text text-anchor=\"start\" x=\"122.7\" y=\"-79.3\" font-family=\"Times New Roman,serif\" font-weight=\"bold\" font-size=\"14.00\"> HBase </text>\r\n",
       "</a>\r\n",
       "</g>\r\n",
       "</g>\r\n",
       "<!-- other -->\r\n",
       "<g id=\"node18\" class=\"node\"><title>other</title>\r\n",
       "<g id=\"a_node18\"><a xlink:href=\"https://giraph.apache.org/\" xlink:title=\"&lt;b&gt; Other &lt;/b&gt; &lt;br/&gt;(e.g. Giraph, MPI, &lt;br/&gt; Storm)\">\r\n",
       "<path fill=\"none\" stroke=\"black\" d=\"M297.5,-102C297.5,-102 198.5,-102 198.5,-102 192.5,-102 186.5,-96 186.5,-90 186.5,-90 186.5,-2 186.5,-2 186.5,4 192.5,10 198.5,10 198.5,10 297.5,10 297.5,10 303.5,10 309.5,4 309.5,-2 309.5,-2 309.5,-90 309.5,-90 309.5,-96 303.5,-102 297.5,-102\"/>\r\n",
       "<text text-anchor=\"start\" x=\"224\" y=\"-56.8\" font-family=\"Times New Roman,serif\" font-weight=\"bold\" font-size=\"14.00\"> Other </text>\r\n",
       "<text text-anchor=\"start\" x=\"268\" y=\"-56.8\" font-family=\"Times New Roman,serif\" font-size=\"14.00\"> </text>\r\n",
       "<text text-anchor=\"start\" x=\"194.5\" y=\"-42.8\" font-family=\"Times New Roman,serif\" font-size=\"14.00\">(e.g. Giraph, MPI, </text>\r\n",
       "<text text-anchor=\"start\" x=\"226.5\" y=\"-28.8\" font-family=\"Times New Roman,serif\" font-size=\"14.00\"> Storm)</text>\r\n",
       "</a>\r\n",
       "</g>\r\n",
       "</g>\r\n",
       "</g>\r\n",
       "</svg>\r\n"
      ],
      "text/plain": [
       "<graphviz.dot.Digraph at 0x1de959e6390>"
      ]
     },
     "execution_count": 259,
     "metadata": {},
     "output_type": "execute_result"
    }
   ],
   "source": [
    "dot"
   ]
  },
  {
   "cell_type": "markdown",
   "metadata": {},
   "source": [
    "# Ressources"
   ]
  },
  {
   "cell_type": "markdown",
   "metadata": {},
   "source": [
    "* HDFS: https://hadoop.apache.org/\n",
    "* YARN: https://hadoop.apache.org/docs/current/hadoop-yarn/hadoop-yarn-site/YARN.html\n",
    "* MapReduce v2: https://hadoop.apache.org/docs/r3.0.0/api/org/apache/hadoop/mapreduce/v2/package-summary.html\n",
    "* TEZ: https://tez.apache.org/\n",
    "* (HOYA): https://de.hortonworks.com/blog/introducing-hoya-hbase-on-yarn/\n",
    "* MapReduce: https://hadoop.apache.org/docs/r2.8.0/hadoop-mapreduce-client/hadoop-mapreduce-client-core/MapReduceTutorial.html\n",
    "* Pig: https://pig.apache.org/\n",
    "* Hive: https://hive.apache.org/\n",
    "* HBase: https://hbase.apache.org/\n",
    "* Giraph: https://giraph.apache.org/\n",
    "* MPI: https://www.stat.berkeley.edu/~mmahoney/talks/Alchemist_Spark_Summit_2018.pdf\n",
    "* Storm: https://storm.apache.org/"
   ]
  },
  {
   "cell_type": "code",
   "execution_count": 260,
   "metadata": {},
   "outputs": [
    {
     "data": {
      "text/plain": [
       "'..\\\\dot\\\\bigdataarchitecture.pdf'"
      ]
     },
     "execution_count": 260,
     "metadata": {},
     "output_type": "execute_result"
    }
   ],
   "source": [
    "dot.render()"
   ]
  },
  {
   "cell_type": "code",
   "execution_count": null,
   "metadata": {},
   "outputs": [],
   "source": []
  }
 ],
 "metadata": {
  "kernelspec": {
   "display_name": "PYDA3.6",
   "language": "python",
   "name": "pyda3.6"
  },
  "language_info": {
   "codemirror_mode": {
    "name": "ipython",
    "version": 3
   },
   "file_extension": ".py",
   "mimetype": "text/x-python",
   "name": "python",
   "nbconvert_exporter": "python",
   "pygments_lexer": "ipython3",
   "version": "3.6.3"
  }
 },
 "nbformat": 4,
 "nbformat_minor": 2
}
